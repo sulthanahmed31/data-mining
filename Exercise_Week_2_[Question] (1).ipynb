{
  "nbformat": 4,
  "nbformat_minor": 0,
  "metadata": {
    "colab": {
      "provenance": []
    },
    "kernelspec": {
      "name": "python3",
      "display_name": "Python 3"
    },
    "language_info": {
      "name": "python"
    }
  },
  "cells": [
    {
      "cell_type": "markdown",
      "source": [
        "## Week 2\n",
        "\n",
        "Please print your name and your NIM."
      ],
      "metadata": {
        "id": "AoYZgxl42T9R"
      }
    },
    {
      "cell_type": "code",
      "source": [
        "# here\n",
        "print(\"Sulthan Ahmed - 0706022210050\")"
      ],
      "metadata": {
        "id": "qB4dI-wUN-iY",
        "colab": {
          "base_uri": "https://localhost:8080/"
        },
        "outputId": "9259168a-de62-456f-c9d9-108cdbeafdf1"
      },
      "execution_count": null,
      "outputs": [
        {
          "output_type": "stream",
          "name": "stdout",
          "text": [
            "Sulthan Ahmed - 0706022210050\n"
          ]
        }
      ]
    },
    {
      "cell_type": "markdown",
      "source": [
        "## Pandas"
      ],
      "metadata": {
        "id": "KvNKLkQs3TYR"
      }
    },
    {
      "cell_type": "markdown",
      "source": [
        "Please import the necessary library here."
      ],
      "metadata": {
        "id": "uh41N6Fk4JdO"
      }
    },
    {
      "cell_type": "code",
      "execution_count": null,
      "metadata": {
        "id": "uuSnflSvM-Kv"
      },
      "outputs": [],
      "source": [
        "# Import Library\n",
        "import pandas as pd\n"
      ]
    },
    {
      "cell_type": "markdown",
      "source": [
        "<h1> Import Data"
      ],
      "metadata": {
        "id": "hUDlryKi4hX1"
      }
    },
    {
      "cell_type": "markdown",
      "source": [
        "Please download the data from Elearn. <br>\n",
        "then input the data from:\n",
        "1. CSV File\n",
        "2. Excel File\n",
        "3. JSON File\n",
        "4. Text File, add header 'English' and 'France'\n",
        "5. Web Dataset - https://raw.githubusercontent.com/michellechandraa/TutorDataMining/refs/heads/main/menu.csv\n",
        "\n",
        "into the dataframe"
      ],
      "metadata": {
        "id": "_Useox1H5Gju"
      }
    },
    {
      "cell_type": "code",
      "source": [
        "# 1\n",
        "df = pd.read_csv('Ice Cream Sales and Temperature.csv')\n",
        "print(df.head())"
      ],
      "metadata": {
        "colab": {
          "base_uri": "https://localhost:8080/"
        },
        "id": "LzFoxbpk4glS",
        "outputId": "ab8160d0-d0b3-43cd-b613-9af9108a0b43"
      },
      "execution_count": null,
      "outputs": [
        {
          "output_type": "stream",
          "name": "stdout",
          "text": [
            "         Date   Time  Temperature (Celsius)  Ice Cream Sales\n",
            "0  2023-01-01  08:00                     18               20\n",
            "1  2023-01-01  08:05                     19               22\n",
            "2  2023-01-01  08:10                     20               25\n",
            "3  2023-01-01  08:15                     21               24\n",
            "4  2023-01-01  08:20                     22               26\n"
          ]
        }
      ]
    },
    {
      "cell_type": "code",
      "source": [
        "# 2\n",
        "df = pd.read_excel('Maven Business School.xlsx')\n",
        "print(df.head())"
      ],
      "metadata": {
        "id": "fjdqLlE2OCAJ",
        "colab": {
          "base_uri": "https://localhost:8080/"
        },
        "outputId": "94284601-71a0-449d-ce39-c4dd4f1316fd"
      },
      "execution_count": null,
      "outputs": [
        {
          "output_type": "stream",
          "name": "stdout",
          "text": [
            "   Student ID  Undergrad Degree  Undergrad Grade  MBA Grade Work Experience  \\\n",
            "0           1          Business             68.4       90.2              No   \n",
            "1           2          Business             62.1       92.8              No   \n",
            "2           3  Computer Science             70.2       68.7             Yes   \n",
            "3           4       Engineering             75.1       80.7              No   \n",
            "4           5           Finance             60.9       74.9              No   \n",
            "\n",
            "   Employability (Before)  Employability (After)      Status  Annual Salary  \n",
            "0                   252.0                  276.0      Placed       111000.0  \n",
            "1                   423.0                  410.0  Not Placed            NaN  \n",
            "2                   101.0                  119.0      Placed       107000.0  \n",
            "3                   288.0                  334.0  Not Placed            NaN  \n",
            "4                   248.0                  252.0  Not Placed            NaN  \n"
          ]
        }
      ]
    },
    {
      "cell_type": "code",
      "source": [
        "# 3\n",
        "df = pd.read_json('drake_data.json')\n",
        "print(df.head())"
      ],
      "metadata": {
        "id": "23yPhoH7OC3Z",
        "colab": {
          "base_uri": "https://localhost:8080/"
        },
        "outputId": "1d41afc0-ccf6-45fd-969e-19fdf1018693"
      },
      "execution_count": null,
      "outputs": [
        {
          "output_type": "stream",
          "name": "stdout",
          "text": [
            "                 album                           lyrics_title  \\\n",
            "0  Certified Lover Boy            Certified Lover Boy* Lyrics   \n",
            "1  Certified Lover Boy  Like I’m Supposed To/Do Things Lyrics   \n",
            "2  Certified Lover Boy                      Not Around Lyrics   \n",
            "3  Certified Lover Boy    In the Cut (Ft. Roddy Ricch) Lyrics   \n",
            "4  Certified Lover Boy  Zodiac Sign (Ft. Jessie Reyez) Lyrics   \n",
            "\n",
            "                                          lyrics_url  \\\n",
            "0  https://genius.com/Drake-certified-lover-boy-l...   \n",
            "1  https://genius.com/Drake-like-im-supposed-to-d...   \n",
            "2         https://genius.com/Drake-not-around-lyrics   \n",
            "3         https://genius.com/Drake-in-the-cut-lyrics   \n",
            "4        https://genius.com/Drake-zodiac-sign-lyrics   \n",
            "\n",
            "                                              lyrics track_views  \n",
            "0  Lyrics from CLB Merch\\n\\n[Verse]\\nPut my feeli...        8.7K  \n",
            "1  [Verse]\\nHands are tied\\nSomeone's in my ear f...       38.8K  \n",
            "2  [Intro]\\nYeah, we back\\nWassup ladies?\\nSwisha...      129.8K  \n",
            "3  [Intro: Drake]\\nAyy, yeah\\nPipe this shit up a...       72.1K  \n",
            "4  [Verse 1: Drake]\\nYou ask how many girls I bee...       54.8K  \n"
          ]
        }
      ]
    },
    {
      "cell_type": "code",
      "source": [
        "# 4\n",
        "columns = ['English', 'French']\n",
        "df = pd.read_table('eng-fra.txt', header=None, names=columns)\n",
        "print(df.head())"
      ],
      "metadata": {
        "id": "AJWubbnC_HXR",
        "colab": {
          "base_uri": "https://localhost:8080/"
        },
        "outputId": "ff309b8c-4f50-45f1-a7be-72a5bf291562"
      },
      "execution_count": null,
      "outputs": [
        {
          "output_type": "stream",
          "name": "stdout",
          "text": [
            "  English      French\n",
            "0     Go.        Va !\n",
            "1    Run!     Cours !\n",
            "2    Run!    Courez !\n",
            "3    Wow!  Ça alors !\n",
            "4   Fire!    Au feu !\n"
          ]
        }
      ]
    },
    {
      "cell_type": "code",
      "source": [
        "# 5\n",
        "df = pd.read_csv(' https://raw.githubusercontent.com/michellechandraa/TutorDataMining/refs/heads/main/menu.csv')\n",
        "print(df.head())"
      ],
      "metadata": {
        "id": "snnE_dmFBmFG",
        "colab": {
          "base_uri": "https://localhost:8080/"
        },
        "outputId": "c645b850-1424-4d49-86d1-b2aed0bb7f2f"
      },
      "execution_count": null,
      "outputs": [
        {
          "output_type": "stream",
          "name": "stdout",
          "text": [
            "    Category                              Item    Serving Size  Calories  \\\n",
            "0  Breakfast                      Egg McMuffin  4.8 oz (136 g)       300   \n",
            "1  Breakfast                 Egg White Delight  4.8 oz (135 g)       250   \n",
            "2  Breakfast                  Sausage McMuffin  3.9 oz (111 g)       370   \n",
            "3  Breakfast         Sausage McMuffin with Egg  5.7 oz (161 g)       450   \n",
            "4  Breakfast  Sausage McMuffin with Egg Whites  5.7 oz (161 g)       400   \n",
            "\n",
            "   Calories from Fat  Total Fat  Total Fat (% Daily Value)  Saturated Fat  \\\n",
            "0                120       13.0                         20            5.0   \n",
            "1                 70        8.0                         12            3.0   \n",
            "2                200       23.0                         35            8.0   \n",
            "3                250       28.0                         43           10.0   \n",
            "4                210       23.0                         35            8.0   \n",
            "\n",
            "   Saturated Fat (% Daily Value)  Trans Fat  ...  Carbohydrates  \\\n",
            "0                             25        0.0  ...             31   \n",
            "1                             15        0.0  ...             30   \n",
            "2                             42        0.0  ...             29   \n",
            "3                             52        0.0  ...             30   \n",
            "4                             42        0.0  ...             30   \n",
            "\n",
            "   Carbohydrates (% Daily Value)  Dietary Fiber  \\\n",
            "0                             10              4   \n",
            "1                             10              4   \n",
            "2                             10              4   \n",
            "3                             10              4   \n",
            "4                             10              4   \n",
            "\n",
            "   Dietary Fiber (% Daily Value)  Sugars  Protein  Vitamin A (% Daily Value)  \\\n",
            "0                             17       3       17                         10   \n",
            "1                             17       3       18                          6   \n",
            "2                             17       2       14                          8   \n",
            "3                             17       2       21                         15   \n",
            "4                             17       2       21                          6   \n",
            "\n",
            "   Vitamin C (% Daily Value)  Calcium (% Daily Value)  Iron (% Daily Value)  \n",
            "0                          0                       25                    15  \n",
            "1                          0                       25                     8  \n",
            "2                          0                       25                    10  \n",
            "3                          0                       30                    15  \n",
            "4                          0                       25                    10  \n",
            "\n",
            "[5 rows x 24 columns]\n"
          ]
        }
      ]
    },
    {
      "cell_type": "markdown",
      "source": [
        "6. Try yourself\n",
        "- Download the MLBB HERO DATASET dataset from Kaggle\n",
        "- Convert the .xlsx to .csv format (you can use python or manually from numbers)\n",
        "- Upload the converted dataset to your own github <br>\n",
        "a. Import the dataset into dataframe <br>\n",
        "b. show 10 random data from dataset <br>\n",
        "c. Find out if there are any missing values in each column <br>\n",
        "d. drop the unnecessary column <br>\n",
        "e. show the roles of the hero in that dataset <br>\n",
        "f. show the most difficult hero to use<br>\n",
        "g. find out which ones has the average higher physical_atk between Fighters and Tank<br>\n",
        "h. Make a visualization showing percentages of heroes based on their role\n",
        "\n"
      ],
      "metadata": {
        "id": "6em5cLipSv5O"
      }
    },
    {
      "cell_type": "code",
      "source": [
        "# a\n",
        "url = 'https://raw.githubusercontent.com/sulthanahmed31/data-mining/main/mlbb_heroini.csv'\n",
        "df = pd.read_csv(url)\n",
        "print(df)"
      ],
      "metadata": {
        "id": "zX7KfMGCXjGE",
        "colab": {
          "base_uri": "https://localhost:8080/"
        },
        "outputId": "ce4ebc5d-732c-48c8-8783-5a86184eb0ce"
      },
      "execution_count": null,
      "outputs": [
        {
          "output_type": "stream",
          "name": "stdout",
          "text": [
            "    hero_name;role;defense_overall;offense_overall;skill_effect_overall;difficulty_overall;movement_spd;magic_defense;mana;hp_regen;physical_atk;physical_defense;hp;attack_speed;mana_regen;win_rate;pick_rate;ban_rate;release_year\n",
            "0    Terizla;fighter;7.0;8.0;6.0;6.0;255;10;430;54;...                                                                                                                                                                               \n",
            "1    Martis;fighter;6.0;8.0;5.0;5.0;260;10;0;35;128...                                                                                                                                                                               \n",
            "2    Grock;tank;8.0;5.0;6.0;4.0;260;10;430;42;135;2...                                                                                                                                                                               \n",
            "3    Carmilla;support;5.0;5.0;9.0;5.0;255;10;430;39...                                                                                                                                                                               \n",
            "4    Irithel;marksman;5.0;5.0;8.0;7.0;260;10;438;35...                                                                                                                                                                               \n",
            "..                                                 ...                                                                                                                                                                               \n",
            "98   Esmeralda;mage;7.0;6.0;6.0;4.0;240;10;502;36;1...                                                                                                                                                                               \n",
            "99   Benedetta;assassin;5.0;6.0;7.0;7.0;260;10;460;...                                                                                                                                                                               \n",
            "100  Brody;marksman;6.0;9.0;4.0;7.0;253;10;435;36;1...                                                                                                                                                                               \n",
            "101  Natalia;assassin;6.0;9.0;4.0;6.0;250;10;486;35...                                                                                                                                                                               \n",
            "102  Silvanna;fighter;6.0;6.0;5.0;4.0;255;10;430;39...                                                                                                                                                                               \n",
            "\n",
            "[103 rows x 1 columns]\n"
          ]
        }
      ]
    },
    {
      "cell_type": "code",
      "source": [
        "# b\n",
        "tampilsepuluh = df.sample(n=10, random_state=1)\n",
        "print(tampilsepuluh)"
      ],
      "metadata": {
        "id": "kkjiLjqMYDj_",
        "colab": {
          "base_uri": "https://localhost:8080/"
        },
        "outputId": "eb9bc61b-80a1-4776-88b6-046adcae3e8b"
      },
      "execution_count": null,
      "outputs": [
        {
          "output_type": "stream",
          "name": "stdout",
          "text": [
            "    hero_name;role;defense_overall;offense_overall;skill_effect_overall;difficulty_overall;movement_spd;magic_defense;mana;hp_regen;physical_atk;physical_defense;hp;attack_speed;mana_regen;win_rate;pick_rate;ban_rate;release_year\n",
            "62   Yi Sun Shin;marksman;4.0;7.0;7.0;6.0;250;10;43...                                                                                                                                                                               \n",
            "40   Lapu Lapu;fighter;5.0;7.0;6.0;5.0;260;10;0;35;...                                                                                                                                                                               \n",
            "39   Badang;fighter;6.0;8.0;5.0;6.0;255;10;0;40;119...                                                                                                                                                                               \n",
            "69   Balmond;fighter;7.0;6.0;4.0;3.0;260;10;0;47;11...                                                                                                                                                                               \n",
            "102  Silvanna;fighter;6.0;6.0;5.0;4.0;255;10;430;39...                                                                                                                                                                               \n",
            "38   Argus;fighter;5.0;8.0;7.0;5.0;260;10;0;40;124;...                                                                                                                                                                               \n",
            "51   Eudora;mage;4.0;5.0;9.0;4.0;250;10;468;38;112;...                                                                                                                                                                               \n",
            "85   Khufra;tank;7.0;5.0;6.0;5.0;255;10;460;47;117;...                                                                                                                                                                               \n",
            "65   Chang'e;mage;4.0;4.0;9.0;7.0;240;10;505;34;115...                                                                                                                                                                               \n",
            "54   Barats;tank;7.0;6.0;5.0;3.0;268;10;430;42;135;...                                                                                                                                                                               \n"
          ]
        }
      ]
    },
    {
      "cell_type": "code",
      "source": [
        "# c\n",
        "missing_values = df.isnull().sum()\n",
        "print(missing_values)"
      ],
      "metadata": {
        "id": "9SHH-Y86YkNg",
        "colab": {
          "base_uri": "https://localhost:8080/"
        },
        "outputId": "6d5d863f-fbdb-4be2-d4f9-037448c9557b"
      },
      "execution_count": null,
      "outputs": [
        {
          "output_type": "stream",
          "name": "stdout",
          "text": [
            "hero_name;role;defense_overall;offense_overall;skill_effect_overall;difficulty_overall;movement_spd;magic_defense;mana;hp_regen;physical_atk;physical_defense;hp;attack_speed;mana_regen;win_rate;pick_rate;ban_rate;release_year    0\n",
            "dtype: int64\n"
          ]
        }
      ]
    },
    {
      "cell_type": "code",
      "source": [
        "# d\n",
        "df = pd.read_csv(url, sep=';')\n",
        "print(\"Columns before dropping:\", df.columns)\n",
        "df = df.drop(columns=['ban_rate'])\n",
        "print(\"Columns after dropping:\", df.columns)\n"
      ],
      "metadata": {
        "id": "QieeGXjTSYS6",
        "colab": {
          "base_uri": "https://localhost:8080/"
        },
        "outputId": "a4c75570-09e2-4e88-cfd2-33cfe1f2426d"
      },
      "execution_count": null,
      "outputs": [
        {
          "output_type": "stream",
          "name": "stdout",
          "text": [
            "Columns before dropping: Index(['hero_name', 'role', 'defense_overall', 'offense_overall',\n",
            "       'skill_effect_overall', 'difficulty_overall', 'movement_spd',\n",
            "       'magic_defense', 'mana', 'hp_regen', 'physical_atk', 'physical_defense',\n",
            "       'hp', 'attack_speed', 'mana_regen', 'win_rate', 'pick_rate', 'ban_rate',\n",
            "       'release_year'],\n",
            "      dtype='object')\n",
            "Columns after dropping: Index(['hero_name', 'role', 'defense_overall', 'offense_overall',\n",
            "       'skill_effect_overall', 'difficulty_overall', 'movement_spd',\n",
            "       'magic_defense', 'mana', 'hp_regen', 'physical_atk', 'physical_defense',\n",
            "       'hp', 'attack_speed', 'mana_regen', 'win_rate', 'pick_rate',\n",
            "       'release_year'],\n",
            "      dtype='object')\n"
          ]
        }
      ]
    },
    {
      "cell_type": "code",
      "source": [
        "# e\n",
        "df = pd.read_csv(url, sep=';')\n",
        "unique_roles = df['role'].unique()\n",
        "print(unique_roles)"
      ],
      "metadata": {
        "id": "lrr1E2ZsT_To",
        "colab": {
          "base_uri": "https://localhost:8080/"
        },
        "outputId": "d86d1721-c8e3-44a3-a31f-945b2e8179a4"
      },
      "execution_count": null,
      "outputs": [
        {
          "output_type": "stream",
          "name": "stdout",
          "text": [
            "['fighter' 'tank' 'support' 'marksman' 'mage' 'assassin']\n"
          ]
        }
      ]
    },
    {
      "cell_type": "code",
      "source": [
        "# f\n",
        "df = pd.read_csv(url, sep=';')\n",
        "most_difficult_hero = df.loc[df['difficulty_overall'].idxmax()]\n",
        "print(\"Most difficult hero to use:\")\n",
        "print(most_difficult_hero)"
      ],
      "metadata": {
        "id": "cb99QYcnZWAM",
        "colab": {
          "base_uri": "https://localhost:8080/"
        },
        "outputId": "106c49c7-78d4-4edb-f4f8-4df1f8ce83e6"
      },
      "execution_count": null,
      "outputs": [
        {
          "output_type": "stream",
          "name": "stdout",
          "text": [
            "Most difficult hero to use:\n",
            "hero_name                  Fanny\n",
            "role                    assassin\n",
            "defense_overall              6.0\n",
            "offense_overall              9.0\n",
            "skill_effect_overall         5.0\n",
            "difficulty_overall          10.0\n",
            "movement_spd                 265\n",
            "magic_defense                  0\n",
            "mana                           0\n",
            "hp_regen                      33\n",
            "physical_atk                 126\n",
            "physical_defense              19\n",
            "hp                          2526\n",
            "attack_speed                0.89\n",
            "mana_regen                   0.0\n",
            "win_rate                   49.05\n",
            "pick_rate                   0.92\n",
            "ban_rate                    4.48\n",
            "release_year                2016\n",
            "Name: 97, dtype: object\n"
          ]
        }
      ]
    },
    {
      "cell_type": "code",
      "source": [
        "# g\n",
        "df = pd.read_csv(url, delimiter=';')\n",
        "\n",
        "print(df.head())\n",
        "\n",
        "\n",
        "average_fighter_atk = df[df['role'] == 'fighter']['physical_atk'].mean()\n",
        "\n",
        "\n",
        "average_tank_atk = df[df['role'] == 'tank']['physical_atk'].mean()\n",
        "\n",
        "\n",
        "print(f\"\\nAverage physical_atk for Fighters: {average_fighter_atk}\")\n",
        "print(f\"Average physical_atk for Tanks: {average_tank_atk}\")\n",
        "\n",
        "if average_fighter_atk > average_tank_atk:\n",
        "    print(\"Fighters have a higher average physical_atk.\")\n",
        "elif average_tank_atk > average_fighter_atk:\n",
        "    print(\"Tanks have a higher average physical_atk.\")\n",
        "else:\n",
        "    print(\"Fighters and Tanks have the same average physical_atk.\")"
      ],
      "metadata": {
        "id": "-Yr4xxUdoMsr",
        "colab": {
          "base_uri": "https://localhost:8080/"
        },
        "outputId": "da247cac-b7bd-4d42-a416-2078beef92bb"
      },
      "execution_count": 42,
      "outputs": [
        {
          "output_type": "stream",
          "name": "stdout",
          "text": [
            "  hero_name      role  defense_overall  offense_overall  skill_effect_overall  \\\n",
            "0   Terizla   fighter              7.0              8.0                   6.0   \n",
            "1    Martis   fighter              6.0              8.0                   5.0   \n",
            "2     Grock      tank              8.0              5.0                   6.0   \n",
            "3  Carmilla   support              5.0              5.0                   9.0   \n",
            "4   Irithel  marksman              5.0              5.0                   8.0   \n",
            "\n",
            "   difficulty_overall  movement_spd  magic_defense  mana  hp_regen  \\\n",
            "0                 6.0           255             10   430        54   \n",
            "1                 5.0           260             10     0        35   \n",
            "2                 4.0           260             10   430        42   \n",
            "3                 5.0           255             10   430        39   \n",
            "4                 7.0           260             10   438        35   \n",
            "\n",
            "   physical_atk  physical_defense    hp  attack_speed  mana_regen  win_rate  \\\n",
            "0           129                19  2728          0.80        21.0     47.00   \n",
            "1           128                25  2738          0.86         0.0     45.00   \n",
            "2           135                21  2819          0.81        12.0     47.69   \n",
            "3           126                25  2528          0.91        16.0     53.76   \n",
            "4           118                17  2540          0.82        15.0     51.52   \n",
            "\n",
            "   pick_rate  ban_rate  release_year  \n",
            "0       0.15      0.02          2019  \n",
            "1       0.15      0.02          2018  \n",
            "2       0.14      0.02          2017  \n",
            "3       0.08      0.02          2020  \n",
            "4       0.38      0.03          2017  \n",
            "\n",
            "Average physical_atk for Fighters: 119.96551724137932\n",
            "Average physical_atk for Tanks: 119.53333333333333\n",
            "Fighters have a higher average physical_atk.\n"
          ]
        }
      ]
    },
    {
      "cell_type": "code",
      "source": [
        "# h\n",
        "import pandas as pd\n",
        "import matplotlib.pyplot as plt\n",
        "df = pd.read_csv(url, delimiter=';')\n",
        "\n",
        "# Count the number of heroes in each role\n",
        "role_counts = df['role'].value_counts()\n",
        "\n",
        "# Plotting the percentages of heroes based on their role\n",
        "plt.figure(figsize=(10, 6))\n",
        "plt.pie(role_counts, labels=role_counts.index, autopct='%1.1f%%', startangle=140)\n",
        "plt.title('Percentage of Heroes Based on Their Role')\n",
        "plt.axis('equal')  # Equal aspect ratio ensures that pie chart is a circle.\n",
        "plt.show()"
      ],
      "metadata": {
        "id": "MamvJr7KoN62",
        "colab": {
          "base_uri": "https://localhost:8080/",
          "height": 523
        },
        "outputId": "95230eff-1e2d-455d-ba44-962e5d8ed288"
      },
      "execution_count": 43,
      "outputs": [
        {
          "output_type": "display_data",
          "data": {
            "text/plain": [
              "<Figure size 1000x600 with 1 Axes>"
            ],
            "image/png": "[encoded data removed]"
          },
          "metadata": {}
        }
      ]
    },
    {
      "cell_type": "markdown",
      "source": [
        "7. I have a character with this specification:\n",
        "defense_overall 6.0<br>\n",
        "offense_overall 7.0<br>\n",
        "skill_effect_overall 4.0<br>\n",
        "difficulty_overall 3.0<br>\n",
        "movement_spd 250<br>\n",
        "magic_defense 9<br>\n",
        "mana 380<br>\n",
        "hp_regen 37<br>\n",
        "physical_atk 119<br>\n",
        "physical_defense 24<br>\n",
        "hp 2689<br>\n",
        "attack_speed 0.75<br>\n",
        "mana_regen 16.0<br>\n",
        "\n",
        "Please predict its role using DecisionTree classification algorithm <br>"
      ],
      "metadata": {
        "id": "DncRbVBdkKYF"
      }
    },
    {
      "cell_type": "code",
      "source": [
        "# 7\n",
        "import pandas as pd\n",
        "from sklearn.model_selection import train_test_split\n",
        "from sklearn.tree import DecisionTreeClassifier\n",
        "from sklearn.preprocessing import LabelEncoder\n",
        "\n",
        "# URL dataset\n",
        "url = 'https://raw.githubusercontent.com/sulthanahmed31/data-mining/main/mlbb_heroini.csv'\n",
        "\n",
        "# Membaca file CSV dengan pemisah titik koma\n",
        "df = pd.read_csv(url, delimiter=';')\n",
        "\n",
        "# Menampilkan beberapa baris pertama untuk memahami struktur dataset\n",
        "print(df.head())\n",
        "\n",
        "# Encode the categorical target variable 'role'\n",
        "label_encoder = LabelEncoder()\n",
        "df['role'] = label_encoder.fit_transform(df['role'])\n",
        "\n",
        "# Define features and target\n",
        "X = df[['defense_overall', 'offense_overall', 'skill_effect_overall',\n",
        "         'difficulty_overall', 'movement_spd', 'magic_defense',\n",
        "         'mana', 'hp_regen', 'physical_atk', 'physical_defense',\n",
        "         'hp', 'attack_speed', 'mana_regen']]\n",
        "y = df['role']\n",
        "\n",
        "# Split the dataset into training and testing sets\n",
        "X_train, X_test, y_train, y_test = train_test_split(X, y, test_size=0.2, random_state=42)\n",
        "\n",
        "# Train the Decision Tree classifier\n",
        "clf = DecisionTreeClassifier()\n",
        "clf.fit(X_train, y_train)\n",
        "\n",
        "# Define the new character's specifications\n",
        "new_character = [[6.0, 7.0, 4.0, 3.0, 250, 9, 380, 37, 119, 24, 2689, 0.75, 16.0]]\n",
        "\n",
        "# Predict the role for the new character\n",
        "predicted_role_index = clf.predict(new_character)[0]\n",
        "\n",
        "# Decode the predicted role back to its original name\n",
        "predicted_role = label_encoder.inverse_transform([predicted_role_index])\n",
        "\n",
        "print(f\"The predicted role for the character is: {predicted_role[0]}\")"
      ],
      "metadata": {
        "id": "AR63DLKQo6Nf",
        "colab": {
          "base_uri": "https://localhost:8080/"
        },
        "outputId": "dacf15e2-917c-4f77-bbcb-e7567d3f6f9d"
      },
      "execution_count": 45,
      "outputs": [
        {
          "output_type": "stream",
          "name": "stdout",
          "text": [
            "  hero_name      role  defense_overall  offense_overall  skill_effect_overall  \\\n",
            "0   Terizla   fighter              7.0              8.0                   6.0   \n",
            "1    Martis   fighter              6.0              8.0                   5.0   \n",
            "2     Grock      tank              8.0              5.0                   6.0   \n",
            "3  Carmilla   support              5.0              5.0                   9.0   \n",
            "4   Irithel  marksman              5.0              5.0                   8.0   \n",
            "\n",
            "   difficulty_overall  movement_spd  magic_defense  mana  hp_regen  \\\n",
            "0                 6.0           255             10   430        54   \n",
            "1                 5.0           260             10     0        35   \n",
            "2                 4.0           260             10   430        42   \n",
            "3                 5.0           255             10   430        39   \n",
            "4                 7.0           260             10   438        35   \n",
            "\n",
            "   physical_atk  physical_defense    hp  attack_speed  mana_regen  win_rate  \\\n",
            "0           129                19  2728          0.80        21.0     47.00   \n",
            "1           128                25  2738          0.86         0.0     45.00   \n",
            "2           135                21  2819          0.81        12.0     47.69   \n",
            "3           126                25  2528          0.91        16.0     53.76   \n",
            "4           118                17  2540          0.82        15.0     51.52   \n",
            "\n",
            "   pick_rate  ban_rate  release_year  \n",
            "0       0.15      0.02          2019  \n",
            "1       0.15      0.02          2018  \n",
            "2       0.14      0.02          2017  \n",
            "3       0.08      0.02          2020  \n",
            "4       0.38      0.03          2017  \n",
            "The predicted role for the character is: tank\n"
          ]
        },
        {
          "output_type": "stream",
          "name": "stderr",
          "text": [
            "/usr/local/lib/python3.10/dist-packages/sklearn/base.py:493: UserWarning: X does not have valid feature names, but DecisionTreeClassifier was fitted with feature names\n",
            "  warnings.warn(\n"
          ]
        }
      ]
    },
    {
      "cell_type": "markdown",
      "source": [
        "8. Why is CSV one of the most commonly used file formats in the field of data science? <br>"
      ],
      "metadata": {
        "id": "8Wg4r64_kfZY"
      }
    },
    {
      "cell_type": "code",
      "source": [
        "# 8\n",
        "CSV files are plain text files that use a simple structure, making them easy to read and understand. This simplicity allows for straightforward data manipulation and visualization."
      ],
      "metadata": {
        "id": "tYf12GVMlhzJ",
        "colab": {
          "base_uri": "https://localhost:8080/",
          "height": 124
        },
        "outputId": "1a06abe6-2336-4e2f-9d06-ada4db81ab92"
      },
      "execution_count": 46,
      "outputs": [
        {
          "output_type": "error",
          "ename": "SyntaxError",
          "evalue": "invalid syntax (<ipython-input-46-acbce974fbca>, line 2)",
          "traceback": [
            "\u001b[0;36m  File \u001b[0;32m\"<ipython-input-46-acbce974fbca>\"\u001b[0;36m, line \u001b[0;32m2\u001b[0m\n\u001b[0;31m    CSV files are plain text files that use a simple structure, making them easy to read and understand. This simplicity allows for straightforward data manipulation and visualization.\u001b[0m\n\u001b[0m        ^\u001b[0m\n\u001b[0;31mSyntaxError\u001b[0m\u001b[0;31m:\u001b[0m invalid syntax\n"
          ]
        }
      ]
    },
    {
      "cell_type": "code",
      "source": [],
      "metadata": {
        "id": "I1B2qB9ljJTn"
      },
      "execution_count": null,
      "outputs": []
    }
  ]
}